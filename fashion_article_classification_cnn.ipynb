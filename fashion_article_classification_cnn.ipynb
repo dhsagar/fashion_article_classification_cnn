{
  "nbformat": 4,
  "nbformat_minor": 0,
  "metadata": {
    "accelerator": "GPU",
    "colab": {
      "name": "fashion_article_classification_cnn.ipynb",
      "provenance": [],
      "collapsed_sections": []
    },
    "kernelspec": {
      "display_name": "Python 3",
      "name": "python3"
    },
    "language_info": {
      "name": "python"
    }
  },
  "cells": [
    {
      "cell_type": "code",
      "metadata": {
        "id": "6igAMTdCbE9E"
      },
      "source": [
        "#necessary import\n",
        "import tensorflow as tf\n",
        "import matplotlib.pyplot as plt\n",
        "import numpy as np\n",
        "from tensorflow.keras import layers, datasets, models"
      ],
      "execution_count": 1,
      "outputs": []
    },
    {
      "cell_type": "code",
      "metadata": {
        "id": "94_beBErh0Uy",
        "colab": {
          "base_uri": "https://localhost:8080/"
        },
        "outputId": "aaf517ba-8464-4f4a-c561-5fd8cd2d9767"
      },
      "source": [
        "#Load fashion mnist dataset from tensorflow\n",
        "(x_train, y_train), (x_test, y_test) = datasets.fashion_mnist.load_data()"
      ],
      "execution_count": 2,
      "outputs": [
        {
          "output_type": "stream",
          "text": [
            "Downloading data from https://storage.googleapis.com/tensorflow/tf-keras-datasets/train-labels-idx1-ubyte.gz\n",
            "32768/29515 [=================================] - 0s 0us/step\n",
            "Downloading data from https://storage.googleapis.com/tensorflow/tf-keras-datasets/train-images-idx3-ubyte.gz\n",
            "26427392/26421880 [==============================] - 0s 0us/step\n",
            "Downloading data from https://storage.googleapis.com/tensorflow/tf-keras-datasets/t10k-labels-idx1-ubyte.gz\n",
            "8192/5148 [===============================================] - 0s 0us/step\n",
            "Downloading data from https://storage.googleapis.com/tensorflow/tf-keras-datasets/t10k-images-idx3-ubyte.gz\n",
            "4423680/4422102 [==============================] - 0s 0us/step\n"
          ],
          "name": "stdout"
        }
      ]
    },
    {
      "cell_type": "code",
      "metadata": {
        "colab": {
          "base_uri": "https://localhost:8080/"
        },
        "id": "BgxL13S7i5pR",
        "outputId": "73fc0689-90e4-49e3-c842-662a7cd4512a"
      },
      "source": [
        "print('Shape of training dataset X_train:')\n",
        "print(x_train.shape)\n",
        "print('Shape of test dataset X_test:')\n",
        "print(x_test.shape)"
      ],
      "execution_count": 3,
      "outputs": [
        {
          "output_type": "stream",
          "text": [
            "Shape of training dataset X_train:\n",
            "(60000, 28, 28)\n",
            "Shape of test dataset X_test:\n",
            "(10000, 28, 28)\n"
          ],
          "name": "stdout"
        }
      ]
    },
    {
      "cell_type": "code",
      "metadata": {
        "colab": {
          "base_uri": "https://localhost:8080/"
        },
        "id": "TipBBjCbjrMC",
        "outputId": "f5ba6c2a-1241-45d7-ea63-3435962577ff"
      },
      "source": [
        "#reshape the traning data and test data \n",
        "# X_train and X_test contains the reshaped data\n",
        "X_train = x_train.reshape(60000, 28, 28,1)\n",
        "X_test = x_test.reshape(10000, 28, 28,1)\n",
        "\n",
        "print('training and test data reshaped for tensor as 60000x28x28x1, 10000x28x28x1 respectively' )\n"
      ],
      "execution_count": 4,
      "outputs": [
        {
          "output_type": "stream",
          "text": [
            "training and test data reshaped for tensor as 60000x28x28x1, 10000x28x28x1 respectively\n"
          ],
          "name": "stdout"
        }
      ]
    },
    {
      "cell_type": "code",
      "metadata": {
        "id": "V7W-sBjBmZNA"
      },
      "source": [
        "#normalizing the data \n",
        "X_train = X_train/255\n",
        "X_test = X_test/255"
      ],
      "execution_count": 5,
      "outputs": []
    },
    {
      "cell_type": "code",
      "metadata": {
        "id": "KjVvADnDoKI5"
      },
      "source": [
        "#there are 10 classes in the dataset\n",
        "classes = [\"T-shirt/top\", \"Trouser\", \"Pullover\",\t\"Dress\", \"Coat\", \t\"Sandal\",\t\"Shirt\",\t\"Sneaker\", \"Bag\", \"Ankle boot\"]\t"
      ],
      "execution_count": 6,
      "outputs": []
    },
    {
      "cell_type": "code",
      "metadata": {
        "id": "DgpYCMO5qvEF"
      },
      "source": [
        "#define a function to show the image with its class name from the training dataset\n",
        "def show_sample(X, y, index):\n",
        "  plt.figure(figsize=(15,2)) #reducing the image size for clear imshow\n",
        "  plt.imshow(X[index],cmap=plt.cm.binary)\n",
        "  plt.xlabel('ClasseName: '+classes[y[index]])"
      ],
      "execution_count": 7,
      "outputs": []
    },
    {
      "cell_type": "code",
      "metadata": {
        "colab": {
          "base_uri": "https://localhost:8080/",
          "height": 173
        },
        "id": "2B_LDJW6q8Hm",
        "outputId": "6f953b39-5f7d-43ba-e44b-a7da0980d184"
      },
      "source": [
        "#show a sample from training images\n",
        "show_sample(x_train, y_train, 11)"
      ],
      "execution_count": 8,
      "outputs": [
        {
          "output_type": "display_data",
          "data": {
            "image/png": "[encoded data removed]",
            "text/plain": [
              "<Figure size 1080x144 with 1 Axes>"
            ]
          },
          "metadata": {
            "tags": [],
            "needs_background": "light"
          }
        }
      ]
    },
    {
      "cell_type": "code",
      "metadata": {
        "id": "0AoL-zCDrCyU"
      },
      "source": [
        "# creating the cnn model\n",
        "cnn_model = models.Sequential([\n",
        "                         #first set of conv+pooling with 32 filters of size 3x3\n",
        "                         layers.Conv2D(filters=64, kernel_size= (3,3), activation='relu', input_shape= (28,28,1)),\n",
        "                         layers.MaxPool2D(2,2),\n",
        "                         #second set of conv+pooling with 32 filters of size 3x3\n",
        "                         layers.Conv2D(filters=64, kernel_size= (3,3), activation='relu'), \n",
        "                         layers.MaxPool2D(2,2),\n",
        "\n",
        "                         #flat after after conv+pooling\n",
        "                         layers.Flatten(),\n",
        "                         #dense layer with 64 neurons/units and relu activation function\n",
        "                         layers.Dense(128, activation='relu'),\n",
        "\n",
        "                         #last/output dense layer with 10 neurons/units since there are 10 y_train classes\n",
        "                         #activation function is softmax for probality distribution\n",
        "                         layers.Dense(10, activation='softmax')                    \n",
        "                         ])"
      ],
      "execution_count": 10,
      "outputs": []
    },
    {
      "cell_type": "code",
      "metadata": {
        "id": "cAFGGueusXug"
      },
      "source": [
        "#add optimizer(adam) and loss function to cnn model\n",
        "cnn_model.compile(optimizer='adam', loss='sparse_categorical_crossentropy', metrics='accuracy')\n"
      ],
      "execution_count": 11,
      "outputs": []
    },
    {
      "cell_type": "code",
      "metadata": {
        "colab": {
          "base_uri": "https://localhost:8080/"
        },
        "id": "1_kGyAocse8O",
        "outputId": "fe7d0d3b-f13e-4d02-babf-b93d76dcea14"
      },
      "source": [
        "#fit the cnn model/train data with cnn_model\n",
        "cnn_model.fit(X_train, y_train, epochs=10)"
      ],
      "execution_count": 12,
      "outputs": [
        {
          "output_type": "stream",
          "text": [
            "Epoch 1/10\n",
            "1875/1875 [==============================] - 40s 6ms/step - loss: 0.4460 - accuracy: 0.8380\n",
            "Epoch 2/10\n",
            "1875/1875 [==============================] - 11s 6ms/step - loss: 0.2975 - accuracy: 0.8911\n",
            "Epoch 3/10\n",
            "1875/1875 [==============================] - 11s 6ms/step - loss: 0.2513 - accuracy: 0.9069\n",
            "Epoch 4/10\n",
            "1875/1875 [==============================] - 11s 6ms/step - loss: 0.2185 - accuracy: 0.9197\n",
            "Epoch 5/10\n",
            "1875/1875 [==============================] - 11s 6ms/step - loss: 0.1941 - accuracy: 0.9263\n",
            "Epoch 6/10\n",
            "1875/1875 [==============================] - 11s 6ms/step - loss: 0.1707 - accuracy: 0.9357\n",
            "Epoch 7/10\n",
            "1875/1875 [==============================] - 11s 6ms/step - loss: 0.1497 - accuracy: 0.9435\n",
            "Epoch 8/10\n",
            "1875/1875 [==============================] - 11s 6ms/step - loss: 0.1328 - accuracy: 0.9493\n",
            "Epoch 9/10\n",
            "1875/1875 [==============================] - 11s 6ms/step - loss: 0.1166 - accuracy: 0.9555\n",
            "Epoch 10/10\n",
            "1875/1875 [==============================] - 11s 6ms/step - loss: 0.1037 - accuracy: 0.9605\n"
          ],
          "name": "stdout"
        },
        {
          "output_type": "execute_result",
          "data": {
            "text/plain": [
              "<tensorflow.python.keras.callbacks.History at 0x7f429cc41ed0>"
            ]
          },
          "metadata": {
            "tags": []
          },
          "execution_count": 12
        }
      ]
    },
    {
      "cell_type": "code",
      "metadata": {
        "colab": {
          "base_uri": "https://localhost:8080/"
        },
        "id": "7WjrtHF-s9KG",
        "outputId": "dd414ae0-4446-4d0f-9376-f810cf10480a"
      },
      "source": [
        "#save the model after training is done \n",
        "cnn_model.save('fashion_article_classification_cnn.model')"
      ],
      "execution_count": 13,
      "outputs": [
        {
          "output_type": "stream",
          "text": [
            "INFO:tensorflow:Assets written to: fashion_article_classification_cnn.model/assets\n"
          ],
          "name": "stdout"
        }
      ]
    },
    {
      "cell_type": "code",
      "metadata": {
        "colab": {
          "base_uri": "https://localhost:8080/"
        },
        "id": "Rzcp36K-GH8j",
        "outputId": "f13f4da6-79bc-4ab8-f830-37d84b36f8f8"
      },
      "source": [
        "#reshape y_test\n",
        "y_test=y_test.reshape(-1,)\n",
        "y_test[:5]"
      ],
      "execution_count": 14,
      "outputs": [
        {
          "output_type": "execute_result",
          "data": {
            "text/plain": [
              "array([9, 2, 1, 1, 6], dtype=uint8)"
            ]
          },
          "metadata": {
            "tags": []
          },
          "execution_count": 14
        }
      ]
    },
    {
      "cell_type": "code",
      "metadata": {
        "colab": {
          "base_uri": "https://localhost:8080/",
          "height": 190
        },
        "id": "KXyLE9COGP_J",
        "outputId": "47a801c6-f4d0-4d49-d3c2-30428b3b280a"
      },
      "source": [
        "#show an image with its classname from test samples using show_sample() function defined above \n",
        "# for showing sample x_test(without reshaping) instead of X_test is used \n",
        "print('Class Index: '+str(y_test[10]))\n",
        "show_sample(x_test, y_test, 10) "
      ],
      "execution_count": 15,
      "outputs": [
        {
          "output_type": "stream",
          "text": [
            "Class Index: 4\n"
          ],
          "name": "stdout"
        },
        {
          "output_type": "display_data",
          "data": {
            "image/png": "[encoded data removed]",
            "text/plain": [
              "<Figure size 1080x144 with 1 Axes>"
            ]
          },
          "metadata": {
            "tags": [],
            "needs_background": "light"
          }
        }
      ]
    },
    {
      "cell_type": "code",
      "metadata": {
        "id": "7_XahMFEKYiW"
      },
      "source": [
        "#load the pretrained model which is saved here after training\n",
        "trained_cnn_model = models.load_model('fashion_article_classification_cnn.model')"
      ],
      "execution_count": 16,
      "outputs": []
    },
    {
      "cell_type": "code",
      "metadata": {
        "id": "Giul_LpWGpRG"
      },
      "source": [
        "#use trained_cnn_model to predict the x_test\n",
        "predictions = trained_cnn_model.predict([X_test])"
      ],
      "execution_count": 18,
      "outputs": []
    },
    {
      "cell_type": "code",
      "metadata": {
        "colab": {
          "base_uri": "https://localhost:8080/"
        },
        "id": "YaLtCePdHarl",
        "outputId": "64819ff5-fa52-4ea4-adc9-fb1fd9d4100a"
      },
      "source": [
        "# Check the y value(class_index) prediction for the index 10 of x_test which lies in predictions[10]\n",
        "print('ClassIndex for sample in X_test[10]:'+str(np.argmax(predictions[10])))\n",
        "classindex= int(np.argmax(predictions[10]))\n",
        "print('ClassName: '+classes[classindex])\n"
      ],
      "execution_count": 19,
      "outputs": [
        {
          "output_type": "stream",
          "text": [
            "ClassIndex for sample in X_test[10]:4\n",
            "ClassName: Coat\n"
          ],
          "name": "stdout"
        }
      ]
    },
    {
      "cell_type": "markdown",
      "metadata": {
        "id": "gokkgn0wO-s3"
      },
      "source": [
        "Prediction from thr cnn model matches with the image class"
      ]
    },
    {
      "cell_type": "code",
      "metadata": {
        "colab": {
          "base_uri": "https://localhost:8080/"
        },
        "id": "R3oFo1HrPPhr",
        "outputId": "8e82489e-0e86-48f2-b6ef-a5b8f47cf5e9"
      },
      "source": [
        "#evaluate overall performance of the cnn_model\n",
        "(validation_loss, validation_accuracy) = trained_cnn_model.evaluate(X_test, y_test)\n",
        "print('Loss: '+ str(validation_loss))\n",
        "print('accuracy: '+ str(validation_accuracy))"
      ],
      "execution_count": 20,
      "outputs": [
        {
          "output_type": "stream",
          "text": [
            "313/313 [==============================] - 1s 4ms/step - loss: 0.2937 - accuracy: 0.9113\n",
            "Loss: 0.2937049865722656\n",
            "accuracy: 0.911300003528595\n"
          ],
          "name": "stdout"
        }
      ]
    }
  ]
}